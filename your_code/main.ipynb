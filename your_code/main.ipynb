{
 "cells": [
  {
   "cell_type": "markdown",
   "metadata": {},
   "source": [
    "# Before you start :\n",
    "   - These exercises are related to the Pivot table and correlation lessons.\n",
    "   - Keep in mind that you need to use some of the functions you learned in the previous lessons.\n",
    "   - All datasets are provided in the `your-code` folder of this lab.\n",
    "   - Elaborate your codes and outputs as much as you can.\n",
    "   - Try your best to answer the questions and complete the tasks and most importantly enjoy the process!!!"
   ]
  },
  {
   "cell_type": "markdown",
   "metadata": {},
   "source": [
    "#### Import all the libraries that are necessary"
   ]
  },
  {
   "cell_type": "code",
   "execution_count": 2,
   "metadata": {},
   "outputs": [],
   "source": [
    "import numpy as np\n",
    "import warnings\n",
    "warnings.simplefilter('ignore')\n",
    "\n",
    "import matplotlib.pyplot as plt\n",
    "import seaborn as sns\n",
    "%matplotlib inline\n",
    "\n",
    "import pandas as pd\n",
    "pd.set_option('display.max_columns', None)"
   ]
  },
  {
   "cell_type": "markdown",
   "metadata": {},
   "source": [
    "# Challenge 1"
   ]
  },
  {
   "cell_type": "markdown",
   "metadata": {},
   "source": [
    "#### Open the ` Employee.csv` file and name your dataset `employee`"
   ]
  },
  {
   "cell_type": "code",
   "execution_count": 3,
   "metadata": {},
   "outputs": [],
   "source": [
    "employee = pd.read_csv('Employee.csv')"
   ]
  },
  {
   "cell_type": "code",
   "execution_count": 4,
   "metadata": {},
   "outputs": [
    {
     "data": {
      "text/html": [
       "<div>\n",
       "<style scoped>\n",
       "    .dataframe tbody tr th:only-of-type {\n",
       "        vertical-align: middle;\n",
       "    }\n",
       "\n",
       "    .dataframe tbody tr th {\n",
       "        vertical-align: top;\n",
       "    }\n",
       "\n",
       "    .dataframe thead th {\n",
       "        text-align: right;\n",
       "    }\n",
       "</style>\n",
       "<table border=\"1\" class=\"dataframe\">\n",
       "  <thead>\n",
       "    <tr style=\"text-align: right;\">\n",
       "      <th></th>\n",
       "      <th>name</th>\n",
       "      <th>department</th>\n",
       "      <th>education</th>\n",
       "      <th>gender</th>\n",
       "      <th>title</th>\n",
       "      <th>years</th>\n",
       "      <th>salary</th>\n",
       "    </tr>\n",
       "  </thead>\n",
       "  <tbody>\n",
       "    <tr>\n",
       "      <th>0</th>\n",
       "      <td>Jose</td>\n",
       "      <td>IT</td>\n",
       "      <td>Bachelor</td>\n",
       "      <td>M</td>\n",
       "      <td>analyst</td>\n",
       "      <td>1</td>\n",
       "      <td>35</td>\n",
       "    </tr>\n",
       "    <tr>\n",
       "      <th>1</th>\n",
       "      <td>Maria</td>\n",
       "      <td>IT</td>\n",
       "      <td>Master</td>\n",
       "      <td>F</td>\n",
       "      <td>analyst</td>\n",
       "      <td>2</td>\n",
       "      <td>30</td>\n",
       "    </tr>\n",
       "    <tr>\n",
       "      <th>2</th>\n",
       "      <td>David</td>\n",
       "      <td>HR</td>\n",
       "      <td>Master</td>\n",
       "      <td>M</td>\n",
       "      <td>analyst</td>\n",
       "      <td>2</td>\n",
       "      <td>30</td>\n",
       "    </tr>\n",
       "    <tr>\n",
       "      <th>3</th>\n",
       "      <td>Sonia</td>\n",
       "      <td>HR</td>\n",
       "      <td>Bachelor</td>\n",
       "      <td>F</td>\n",
       "      <td>analyst</td>\n",
       "      <td>4</td>\n",
       "      <td>35</td>\n",
       "    </tr>\n",
       "    <tr>\n",
       "      <th>4</th>\n",
       "      <td>Samuel</td>\n",
       "      <td>Sales</td>\n",
       "      <td>Master</td>\n",
       "      <td>M</td>\n",
       "      <td>associate</td>\n",
       "      <td>3</td>\n",
       "      <td>55</td>\n",
       "    </tr>\n",
       "  </tbody>\n",
       "</table>\n",
       "</div>"
      ],
      "text/plain": [
       "     name department education gender      title  years  salary\n",
       "0    Jose         IT  Bachelor      M    analyst      1      35\n",
       "1   Maria         IT    Master      F    analyst      2      30\n",
       "2   David         HR    Master      M    analyst      2      30\n",
       "3   Sonia         HR  Bachelor      F    analyst      4      35\n",
       "4  Samuel      Sales    Master      M  associate      3      55"
      ]
     },
     "execution_count": 4,
     "metadata": {},
     "output_type": "execute_result"
    }
   ],
   "source": [
    "employee.columns=[e.lower().replace(' ', '_') for e in employee.columns]\n",
    "\n",
    "employee.head()"
   ]
  },
  {
   "cell_type": "markdown",
   "metadata": {},
   "source": [
    "#### What's the mean salary by department. \n",
    "##### Tip : There are 2 ways to do it - one way is with and the other way is without pivot tables. Do it both ways. \n"
   ]
  },
  {
   "cell_type": "code",
   "execution_count": 15,
   "metadata": {},
   "outputs": [
    {
     "data": {
      "text/html": [
       "<div>\n",
       "<style scoped>\n",
       "    .dataframe tbody tr th:only-of-type {\n",
       "        vertical-align: middle;\n",
       "    }\n",
       "\n",
       "    .dataframe tbody tr th {\n",
       "        vertical-align: top;\n",
       "    }\n",
       "\n",
       "    .dataframe thead th {\n",
       "        text-align: right;\n",
       "    }\n",
       "</style>\n",
       "<table border=\"1\" class=\"dataframe\">\n",
       "  <thead>\n",
       "    <tr style=\"text-align: right;\">\n",
       "      <th></th>\n",
       "      <th>salary</th>\n",
       "    </tr>\n",
       "    <tr>\n",
       "      <th>department</th>\n",
       "      <th></th>\n",
       "    </tr>\n",
       "  </thead>\n",
       "  <tbody>\n",
       "    <tr>\n",
       "      <th>HR</th>\n",
       "      <td>45.00</td>\n",
       "    </tr>\n",
       "    <tr>\n",
       "      <th>IT</th>\n",
       "      <td>48.75</td>\n",
       "    </tr>\n",
       "    <tr>\n",
       "      <th>Sales</th>\n",
       "      <td>55.00</td>\n",
       "    </tr>\n",
       "  </tbody>\n",
       "</table>\n",
       "</div>"
      ],
      "text/plain": [
       "            salary\n",
       "department        \n",
       "HR           45.00\n",
       "IT           48.75\n",
       "Sales        55.00"
      ]
     },
     "execution_count": 15,
     "metadata": {},
     "output_type": "execute_result"
    }
   ],
   "source": [
    "#Opción 1.\n",
    "pivot_table = pd.pivot_table(employee, index=['department'], values=['salary'], aggfunc='mean')\n",
    "\n",
    "pivot_table"
   ]
  },
  {
   "cell_type": "code",
   "execution_count": 6,
   "metadata": {},
   "outputs": [
    {
     "data": {
      "text/plain": [
       "department\n",
       "HR       45.00\n",
       "IT       48.75\n",
       "Sales    55.00\n",
       "Name: salary, dtype: float64"
      ]
     },
     "execution_count": 6,
     "metadata": {},
     "output_type": "execute_result"
    }
   ],
   "source": [
    "#Opción 2.\n",
    "\n",
    "# Calcular el salario promedio por departamento\n",
    "mean_salary_by_department = employee.groupby('department')['salary'].mean()\n",
    "\n",
    "mean_salary_by_department"
   ]
  },
  {
   "cell_type": "markdown",
   "metadata": {},
   "source": [
    "#### We want now to group the data by more than one column. Use Pandas pivot table function to select the mean salary by department and title"
   ]
  },
  {
   "cell_type": "code",
   "execution_count": 16,
   "metadata": {},
   "outputs": [
    {
     "data": {
      "text/html": [
       "<div>\n",
       "<style scoped>\n",
       "    .dataframe tbody tr th:only-of-type {\n",
       "        vertical-align: middle;\n",
       "    }\n",
       "\n",
       "    .dataframe tbody tr th {\n",
       "        vertical-align: top;\n",
       "    }\n",
       "\n",
       "    .dataframe thead th {\n",
       "        text-align: right;\n",
       "    }\n",
       "</style>\n",
       "<table border=\"1\" class=\"dataframe\">\n",
       "  <thead>\n",
       "    <tr style=\"text-align: right;\">\n",
       "      <th></th>\n",
       "      <th></th>\n",
       "      <th>salary</th>\n",
       "    </tr>\n",
       "    <tr>\n",
       "      <th>department</th>\n",
       "      <th>title</th>\n",
       "      <th></th>\n",
       "    </tr>\n",
       "  </thead>\n",
       "  <tbody>\n",
       "    <tr>\n",
       "      <th rowspan=\"2\" valign=\"top\">HR</th>\n",
       "      <th>VP</th>\n",
       "      <td>70.0</td>\n",
       "    </tr>\n",
       "    <tr>\n",
       "      <th>analyst</th>\n",
       "      <td>32.5</td>\n",
       "    </tr>\n",
       "    <tr>\n",
       "      <th rowspan=\"3\" valign=\"top\">IT</th>\n",
       "      <th>VP</th>\n",
       "      <td>70.0</td>\n",
       "    </tr>\n",
       "    <tr>\n",
       "      <th>analyst</th>\n",
       "      <td>32.5</td>\n",
       "    </tr>\n",
       "    <tr>\n",
       "      <th>associate</th>\n",
       "      <td>60.0</td>\n",
       "    </tr>\n",
       "    <tr>\n",
       "      <th>Sales</th>\n",
       "      <th>associate</th>\n",
       "      <td>55.0</td>\n",
       "    </tr>\n",
       "  </tbody>\n",
       "</table>\n",
       "</div>"
      ],
      "text/plain": [
       "                      salary\n",
       "department title            \n",
       "HR         VP           70.0\n",
       "           analyst      32.5\n",
       "IT         VP           70.0\n",
       "           analyst      32.5\n",
       "           associate    60.0\n",
       "Sales      associate    55.0"
      ]
     },
     "execution_count": 16,
     "metadata": {},
     "output_type": "execute_result"
    }
   ],
   "source": [
    "pivot_table = pd.pivot_table(employee, index=['department', 'title'], values=['salary'], aggfunc='mean')\n",
    "\n",
    "pivot_table"
   ]
  },
  {
   "cell_type": "markdown",
   "metadata": {},
   "source": [
    "#### We want to display the number of years of work experience and the salary for each Title. Add Years as a column in your pivot table\n",
    "*Hint: Use Pandas doc(see References in README.md) to explore the pivot_table() arguments*"
   ]
  },
  {
   "cell_type": "code",
   "execution_count": 13,
   "metadata": {},
   "outputs": [
    {
     "data": {
      "text/html": [
       "<div>\n",
       "<style scoped>\n",
       "    .dataframe tbody tr th:only-of-type {\n",
       "        vertical-align: middle;\n",
       "    }\n",
       "\n",
       "    .dataframe tbody tr th {\n",
       "        vertical-align: top;\n",
       "    }\n",
       "\n",
       "    .dataframe thead th {\n",
       "        text-align: right;\n",
       "    }\n",
       "</style>\n",
       "<table border=\"1\" class=\"dataframe\">\n",
       "  <thead>\n",
       "    <tr style=\"text-align: right;\">\n",
       "      <th></th>\n",
       "      <th>salary</th>\n",
       "      <th>years</th>\n",
       "    </tr>\n",
       "    <tr>\n",
       "      <th>title</th>\n",
       "      <th></th>\n",
       "      <th></th>\n",
       "    </tr>\n",
       "  </thead>\n",
       "  <tbody>\n",
       "    <tr>\n",
       "      <th>VP</th>\n",
       "      <td>70.000000</td>\n",
       "      <td>8.00</td>\n",
       "    </tr>\n",
       "    <tr>\n",
       "      <th>analyst</th>\n",
       "      <td>32.500000</td>\n",
       "      <td>2.25</td>\n",
       "    </tr>\n",
       "    <tr>\n",
       "      <th>associate</th>\n",
       "      <td>56.666667</td>\n",
       "      <td>4.00</td>\n",
       "    </tr>\n",
       "  </tbody>\n",
       "</table>\n",
       "</div>"
      ],
      "text/plain": [
       "              salary  years\n",
       "title                      \n",
       "VP         70.000000   8.00\n",
       "analyst    32.500000   2.25\n",
       "associate  56.666667   4.00"
      ]
     },
     "execution_count": 13,
     "metadata": {},
     "output_type": "execute_result"
    }
   ],
   "source": [
    "pivot_table = pd.pivot_table(employee, index=['title'], values=['years', 'salary'])\n",
    "pivot_table"
   ]
  },
  {
   "cell_type": "markdown",
   "metadata": {},
   "source": [
    "#### We want to know the information about the mean salary and number of employees in each department and for each job title"
   ]
  },
  {
   "cell_type": "code",
   "execution_count": 23,
   "metadata": {},
   "outputs": [
    {
     "data": {
      "text/html": [
       "<div>\n",
       "<style scoped>\n",
       "    .dataframe tbody tr th:only-of-type {\n",
       "        vertical-align: middle;\n",
       "    }\n",
       "\n",
       "    .dataframe tbody tr th {\n",
       "        vertical-align: top;\n",
       "    }\n",
       "\n",
       "    .dataframe thead th {\n",
       "        text-align: right;\n",
       "    }\n",
       "</style>\n",
       "<table border=\"1\" class=\"dataframe\">\n",
       "  <thead>\n",
       "    <tr style=\"text-align: right;\">\n",
       "      <th></th>\n",
       "      <th></th>\n",
       "      <th>salary</th>\n",
       "      <th>title</th>\n",
       "    </tr>\n",
       "    <tr>\n",
       "      <th>department</th>\n",
       "      <th>title</th>\n",
       "      <th></th>\n",
       "      <th></th>\n",
       "    </tr>\n",
       "  </thead>\n",
       "  <tbody>\n",
       "    <tr>\n",
       "      <th rowspan=\"2\" valign=\"top\">HR</th>\n",
       "      <th>VP</th>\n",
       "      <td>70.0</td>\n",
       "      <td>1</td>\n",
       "    </tr>\n",
       "    <tr>\n",
       "      <th>analyst</th>\n",
       "      <td>32.5</td>\n",
       "      <td>2</td>\n",
       "    </tr>\n",
       "    <tr>\n",
       "      <th rowspan=\"3\" valign=\"top\">IT</th>\n",
       "      <th>VP</th>\n",
       "      <td>70.0</td>\n",
       "      <td>1</td>\n",
       "    </tr>\n",
       "    <tr>\n",
       "      <th>analyst</th>\n",
       "      <td>32.5</td>\n",
       "      <td>2</td>\n",
       "    </tr>\n",
       "    <tr>\n",
       "      <th>associate</th>\n",
       "      <td>60.0</td>\n",
       "      <td>1</td>\n",
       "    </tr>\n",
       "    <tr>\n",
       "      <th>Sales</th>\n",
       "      <th>associate</th>\n",
       "      <td>55.0</td>\n",
       "      <td>2</td>\n",
       "    </tr>\n",
       "  </tbody>\n",
       "</table>\n",
       "</div>"
      ],
      "text/plain": [
       "                      salary  title\n",
       "department title                   \n",
       "HR         VP           70.0      1\n",
       "           analyst      32.5      2\n",
       "IT         VP           70.0      1\n",
       "           analyst      32.5      2\n",
       "           associate    60.0      1\n",
       "Sales      associate    55.0      2"
      ]
     },
     "execution_count": 23,
     "metadata": {},
     "output_type": "execute_result"
    }
   ],
   "source": [
    "pivot_table = pd.pivot_table(employee, index=['department', 'title'], values=['salary'], aggfunc={'salary': 'mean', 'title': 'count'})\n",
    "\n",
    "pivot_table"
   ]
  },
  {
   "cell_type": "markdown",
   "metadata": {},
   "source": [
    "#### We want to know for each department and for each job title the Salary's median,minimum,maximum and standard deviation. Comment your results"
   ]
  },
  {
   "cell_type": "code",
   "execution_count": 17,
   "metadata": {},
   "outputs": [
    {
     "data": {
      "text/html": [
       "<div>\n",
       "<style scoped>\n",
       "    .dataframe tbody tr th:only-of-type {\n",
       "        vertical-align: middle;\n",
       "    }\n",
       "\n",
       "    .dataframe tbody tr th {\n",
       "        vertical-align: top;\n",
       "    }\n",
       "\n",
       "    .dataframe thead tr th {\n",
       "        text-align: left;\n",
       "    }\n",
       "\n",
       "    .dataframe thead tr:last-of-type th {\n",
       "        text-align: right;\n",
       "    }\n",
       "</style>\n",
       "<table border=\"1\" class=\"dataframe\">\n",
       "  <thead>\n",
       "    <tr>\n",
       "      <th></th>\n",
       "      <th></th>\n",
       "      <th colspan=\"4\" halign=\"left\">salary</th>\n",
       "    </tr>\n",
       "    <tr>\n",
       "      <th></th>\n",
       "      <th></th>\n",
       "      <th>max</th>\n",
       "      <th>median</th>\n",
       "      <th>min</th>\n",
       "      <th>std</th>\n",
       "    </tr>\n",
       "    <tr>\n",
       "      <th>department</th>\n",
       "      <th>title</th>\n",
       "      <th></th>\n",
       "      <th></th>\n",
       "      <th></th>\n",
       "      <th></th>\n",
       "    </tr>\n",
       "  </thead>\n",
       "  <tbody>\n",
       "    <tr>\n",
       "      <th rowspan=\"2\" valign=\"top\">HR</th>\n",
       "      <th>VP</th>\n",
       "      <td>70</td>\n",
       "      <td>70.0</td>\n",
       "      <td>70</td>\n",
       "      <td>NaN</td>\n",
       "    </tr>\n",
       "    <tr>\n",
       "      <th>analyst</th>\n",
       "      <td>35</td>\n",
       "      <td>32.5</td>\n",
       "      <td>30</td>\n",
       "      <td>3.535534</td>\n",
       "    </tr>\n",
       "    <tr>\n",
       "      <th rowspan=\"3\" valign=\"top\">IT</th>\n",
       "      <th>VP</th>\n",
       "      <td>70</td>\n",
       "      <td>70.0</td>\n",
       "      <td>70</td>\n",
       "      <td>NaN</td>\n",
       "    </tr>\n",
       "    <tr>\n",
       "      <th>analyst</th>\n",
       "      <td>35</td>\n",
       "      <td>32.5</td>\n",
       "      <td>30</td>\n",
       "      <td>3.535534</td>\n",
       "    </tr>\n",
       "    <tr>\n",
       "      <th>associate</th>\n",
       "      <td>60</td>\n",
       "      <td>60.0</td>\n",
       "      <td>60</td>\n",
       "      <td>NaN</td>\n",
       "    </tr>\n",
       "    <tr>\n",
       "      <th>Sales</th>\n",
       "      <th>associate</th>\n",
       "      <td>55</td>\n",
       "      <td>55.0</td>\n",
       "      <td>55</td>\n",
       "      <td>0.000000</td>\n",
       "    </tr>\n",
       "  </tbody>\n",
       "</table>\n",
       "</div>"
      ],
      "text/plain": [
       "                     salary                     \n",
       "                        max median min       std\n",
       "department title                                \n",
       "HR         VP            70   70.0  70       NaN\n",
       "           analyst       35   32.5  30  3.535534\n",
       "IT         VP            70   70.0  70       NaN\n",
       "           analyst       35   32.5  30  3.535534\n",
       "           associate     60   60.0  60       NaN\n",
       "Sales      associate     55   55.0  55  0.000000"
      ]
     },
     "execution_count": 17,
     "metadata": {},
     "output_type": "execute_result"
    }
   ],
   "source": [
    "pivot_table = pd.pivot_table(\n",
    "    employee,\n",
    "    index=['department', 'title'],\n",
    "    values=['salary'],\n",
    "    aggfunc={'salary': ['median', 'min', 'max', 'std']}\n",
    "    )\n",
    "\n",
    "pivot_table"
   ]
  },
  {
   "cell_type": "markdown",
   "metadata": {},
   "source": [
    "#### Based on your comments, fill the missing values with an appropriate value"
   ]
  },
  {
   "cell_type": "code",
   "execution_count": 21,
   "metadata": {},
   "outputs": [
    {
     "data": {
      "text/html": [
       "<div>\n",
       "<style scoped>\n",
       "    .dataframe tbody tr th:only-of-type {\n",
       "        vertical-align: middle;\n",
       "    }\n",
       "\n",
       "    .dataframe tbody tr th {\n",
       "        vertical-align: top;\n",
       "    }\n",
       "\n",
       "    .dataframe thead tr th {\n",
       "        text-align: left;\n",
       "    }\n",
       "\n",
       "    .dataframe thead tr:last-of-type th {\n",
       "        text-align: right;\n",
       "    }\n",
       "</style>\n",
       "<table border=\"1\" class=\"dataframe\">\n",
       "  <thead>\n",
       "    <tr>\n",
       "      <th></th>\n",
       "      <th></th>\n",
       "      <th colspan=\"4\" halign=\"left\">salary</th>\n",
       "    </tr>\n",
       "    <tr>\n",
       "      <th></th>\n",
       "      <th></th>\n",
       "      <th>max</th>\n",
       "      <th>median</th>\n",
       "      <th>min</th>\n",
       "      <th>std</th>\n",
       "    </tr>\n",
       "    <tr>\n",
       "      <th>department</th>\n",
       "      <th>title</th>\n",
       "      <th></th>\n",
       "      <th></th>\n",
       "      <th></th>\n",
       "      <th></th>\n",
       "    </tr>\n",
       "  </thead>\n",
       "  <tbody>\n",
       "    <tr>\n",
       "      <th rowspan=\"2\" valign=\"top\">HR</th>\n",
       "      <th>VP</th>\n",
       "      <td>70</td>\n",
       "      <td>70.0</td>\n",
       "      <td>70</td>\n",
       "      <td>0.000000</td>\n",
       "    </tr>\n",
       "    <tr>\n",
       "      <th>analyst</th>\n",
       "      <td>35</td>\n",
       "      <td>32.5</td>\n",
       "      <td>30</td>\n",
       "      <td>3.535534</td>\n",
       "    </tr>\n",
       "    <tr>\n",
       "      <th rowspan=\"3\" valign=\"top\">IT</th>\n",
       "      <th>VP</th>\n",
       "      <td>70</td>\n",
       "      <td>70.0</td>\n",
       "      <td>70</td>\n",
       "      <td>0.000000</td>\n",
       "    </tr>\n",
       "    <tr>\n",
       "      <th>analyst</th>\n",
       "      <td>35</td>\n",
       "      <td>32.5</td>\n",
       "      <td>30</td>\n",
       "      <td>3.535534</td>\n",
       "    </tr>\n",
       "    <tr>\n",
       "      <th>associate</th>\n",
       "      <td>60</td>\n",
       "      <td>60.0</td>\n",
       "      <td>60</td>\n",
       "      <td>0.000000</td>\n",
       "    </tr>\n",
       "    <tr>\n",
       "      <th>Sales</th>\n",
       "      <th>associate</th>\n",
       "      <td>55</td>\n",
       "      <td>55.0</td>\n",
       "      <td>55</td>\n",
       "      <td>0.000000</td>\n",
       "    </tr>\n",
       "  </tbody>\n",
       "</table>\n",
       "</div>"
      ],
      "text/plain": [
       "                     salary                     \n",
       "                        max median min       std\n",
       "department title                                \n",
       "HR         VP            70   70.0  70  0.000000\n",
       "           analyst       35   32.5  30  3.535534\n",
       "IT         VP            70   70.0  70  0.000000\n",
       "           analyst       35   32.5  30  3.535534\n",
       "           associate     60   60.0  60  0.000000\n",
       "Sales      associate     55   55.0  55  0.000000"
      ]
     },
     "execution_count": 21,
     "metadata": {},
     "output_type": "execute_result"
    }
   ],
   "source": [
    "pivot_table = pd.pivot_table(\n",
    "    employee,\n",
    "    index=['department', 'title'],\n",
    "    values=['salary'],\n",
    "    aggfunc={'salary': ['median', 'min', 'max', 'std']},\n",
    "    fill_value=0)\n",
    "\n",
    "pivot_table"
   ]
  },
  {
   "cell_type": "markdown",
   "metadata": {},
   "source": [
    "#### The stake holders want to know for each department the number of employees and how much money is spend on salaries. Could you provide that information? "
   ]
  },
  {
   "cell_type": "code",
   "execution_count": 26,
   "metadata": {},
   "outputs": [
    {
     "data": {
      "text/html": [
       "<div>\n",
       "<style scoped>\n",
       "    .dataframe tbody tr th:only-of-type {\n",
       "        vertical-align: middle;\n",
       "    }\n",
       "\n",
       "    .dataframe tbody tr th {\n",
       "        vertical-align: top;\n",
       "    }\n",
       "\n",
       "    .dataframe thead th {\n",
       "        text-align: right;\n",
       "    }\n",
       "</style>\n",
       "<table border=\"1\" class=\"dataframe\">\n",
       "  <thead>\n",
       "    <tr style=\"text-align: right;\">\n",
       "      <th></th>\n",
       "      <th>name</th>\n",
       "      <th>salary</th>\n",
       "    </tr>\n",
       "    <tr>\n",
       "      <th>department</th>\n",
       "      <th></th>\n",
       "      <th></th>\n",
       "    </tr>\n",
       "  </thead>\n",
       "  <tbody>\n",
       "    <tr>\n",
       "      <th>HR</th>\n",
       "      <td>3</td>\n",
       "      <td>135</td>\n",
       "    </tr>\n",
       "    <tr>\n",
       "      <th>IT</th>\n",
       "      <td>4</td>\n",
       "      <td>195</td>\n",
       "    </tr>\n",
       "    <tr>\n",
       "      <th>Sales</th>\n",
       "      <td>2</td>\n",
       "      <td>110</td>\n",
       "    </tr>\n",
       "  </tbody>\n",
       "</table>\n",
       "</div>"
      ],
      "text/plain": [
       "            name  salary\n",
       "department              \n",
       "HR             3     135\n",
       "IT             4     195\n",
       "Sales          2     110"
      ]
     },
     "execution_count": 26,
     "metadata": {},
     "output_type": "execute_result"
    }
   ],
   "source": [
    "department_summary = employee.groupby('department').agg({'name': 'count', 'salary': 'sum'})\n",
    "\n",
    "department_summary"
   ]
  },
  {
   "cell_type": "markdown",
   "metadata": {},
   "source": [
    "#### For each Department and Title, we want to know the the total years of work experience and the mean salary"
   ]
  },
  {
   "cell_type": "code",
   "execution_count": 27,
   "metadata": {},
   "outputs": [
    {
     "data": {
      "text/html": [
       "<div>\n",
       "<style scoped>\n",
       "    .dataframe tbody tr th:only-of-type {\n",
       "        vertical-align: middle;\n",
       "    }\n",
       "\n",
       "    .dataframe tbody tr th {\n",
       "        vertical-align: top;\n",
       "    }\n",
       "\n",
       "    .dataframe thead th {\n",
       "        text-align: right;\n",
       "    }\n",
       "</style>\n",
       "<table border=\"1\" class=\"dataframe\">\n",
       "  <thead>\n",
       "    <tr style=\"text-align: right;\">\n",
       "      <th></th>\n",
       "      <th></th>\n",
       "      <th>years</th>\n",
       "      <th>salary</th>\n",
       "    </tr>\n",
       "    <tr>\n",
       "      <th>department</th>\n",
       "      <th>title</th>\n",
       "      <th></th>\n",
       "      <th></th>\n",
       "    </tr>\n",
       "  </thead>\n",
       "  <tbody>\n",
       "    <tr>\n",
       "      <th rowspan=\"2\" valign=\"top\">HR</th>\n",
       "      <th>VP</th>\n",
       "      <td>8</td>\n",
       "      <td>70.0</td>\n",
       "    </tr>\n",
       "    <tr>\n",
       "      <th>analyst</th>\n",
       "      <td>6</td>\n",
       "      <td>32.5</td>\n",
       "    </tr>\n",
       "    <tr>\n",
       "      <th rowspan=\"3\" valign=\"top\">IT</th>\n",
       "      <th>VP</th>\n",
       "      <td>8</td>\n",
       "      <td>70.0</td>\n",
       "    </tr>\n",
       "    <tr>\n",
       "      <th>analyst</th>\n",
       "      <td>3</td>\n",
       "      <td>32.5</td>\n",
       "    </tr>\n",
       "    <tr>\n",
       "      <th>associate</th>\n",
       "      <td>7</td>\n",
       "      <td>60.0</td>\n",
       "    </tr>\n",
       "    <tr>\n",
       "      <th>Sales</th>\n",
       "      <th>associate</th>\n",
       "      <td>5</td>\n",
       "      <td>55.0</td>\n",
       "    </tr>\n",
       "  </tbody>\n",
       "</table>\n",
       "</div>"
      ],
      "text/plain": [
       "                      years  salary\n",
       "department title                   \n",
       "HR         VP             8    70.0\n",
       "           analyst        6    32.5\n",
       "IT         VP             8    70.0\n",
       "           analyst        3    32.5\n",
       "           associate      7    60.0\n",
       "Sales      associate      5    55.0"
      ]
     },
     "execution_count": 27,
     "metadata": {},
     "output_type": "execute_result"
    }
   ],
   "source": [
    "department_title_summary = employee.groupby(['department', 'title']).agg({'years': 'sum', 'salary': 'mean'})\n",
    "\n",
    "department_title_summary"
   ]
  },
  {
   "cell_type": "markdown",
   "metadata": {},
   "source": [
    "#### Bonus\n",
    "\n",
    "#### We now want to compute the mean salary after removing the maxima for each Department. Create the appropriate pivot table\n",
    "\n",
    "#### * Hint: Write a custom function*"
   ]
  },
  {
   "cell_type": "code",
   "execution_count": null,
   "metadata": {},
   "outputs": [],
   "source": [
    "# your answer here"
   ]
  },
  {
   "cell_type": "code",
   "execution_count": null,
   "metadata": {},
   "outputs": [],
   "source": [
    "# your answer here"
   ]
  },
  {
   "cell_type": "markdown",
   "metadata": {},
   "source": [
    "# Challenge 2"
   ]
  },
  {
   "cell_type": "markdown",
   "metadata": {},
   "source": [
    "#### Open the ` Fitbit.csv` file and name your dataset `fitbit`"
   ]
  },
  {
   "cell_type": "code",
   "execution_count": 33,
   "metadata": {
    "scrolled": true
   },
   "outputs": [],
   "source": [
    "fitbit = pd.read_csv('Fitbit.csv')"
   ]
  },
  {
   "cell_type": "code",
   "execution_count": 34,
   "metadata": {},
   "outputs": [
    {
     "data": {
      "text/html": [
       "<div>\n",
       "<style scoped>\n",
       "    .dataframe tbody tr th:only-of-type {\n",
       "        vertical-align: middle;\n",
       "    }\n",
       "\n",
       "    .dataframe tbody tr th {\n",
       "        vertical-align: top;\n",
       "    }\n",
       "\n",
       "    .dataframe thead th {\n",
       "        text-align: right;\n",
       "    }\n",
       "</style>\n",
       "<table border=\"1\" class=\"dataframe\">\n",
       "  <thead>\n",
       "    <tr style=\"text-align: right;\">\n",
       "      <th></th>\n",
       "      <th>date</th>\n",
       "      <th>calorie_burned</th>\n",
       "      <th>steps</th>\n",
       "      <th>distance</th>\n",
       "      <th>floors</th>\n",
       "      <th>minutes_sedentary</th>\n",
       "      <th>minutes_lightly_active</th>\n",
       "      <th>minutes_fairly_active</th>\n",
       "      <th>minutes_very_active</th>\n",
       "      <th>activity_calories</th>\n",
       "      <th>minutesofsleep</th>\n",
       "      <th>minutesofbeingawake</th>\n",
       "      <th>numberofawakings</th>\n",
       "      <th>lengthofrestinminutes</th>\n",
       "    </tr>\n",
       "  </thead>\n",
       "  <tbody>\n",
       "    <tr>\n",
       "      <th>0</th>\n",
       "      <td>08-05-2015</td>\n",
       "      <td>1934</td>\n",
       "      <td>905</td>\n",
       "      <td>0.65</td>\n",
       "      <td>0</td>\n",
       "      <td>1.355</td>\n",
       "      <td>46</td>\n",
       "      <td>0</td>\n",
       "      <td>0</td>\n",
       "      <td>1680</td>\n",
       "      <td>384</td>\n",
       "      <td>26</td>\n",
       "      <td>23</td>\n",
       "      <td>417</td>\n",
       "    </tr>\n",
       "    <tr>\n",
       "      <th>1</th>\n",
       "      <td>09-05-2015</td>\n",
       "      <td>3631</td>\n",
       "      <td>18925</td>\n",
       "      <td>14.11</td>\n",
       "      <td>4</td>\n",
       "      <td>611.000</td>\n",
       "      <td>316</td>\n",
       "      <td>61</td>\n",
       "      <td>60</td>\n",
       "      <td>2248</td>\n",
       "      <td>454</td>\n",
       "      <td>35</td>\n",
       "      <td>21</td>\n",
       "      <td>491</td>\n",
       "    </tr>\n",
       "    <tr>\n",
       "      <th>2</th>\n",
       "      <td>10-05-2015</td>\n",
       "      <td>3204</td>\n",
       "      <td>14228</td>\n",
       "      <td>10.57</td>\n",
       "      <td>1</td>\n",
       "      <td>602.000</td>\n",
       "      <td>226</td>\n",
       "      <td>14</td>\n",
       "      <td>77</td>\n",
       "      <td>1719</td>\n",
       "      <td>387</td>\n",
       "      <td>46</td>\n",
       "      <td>25</td>\n",
       "      <td>436</td>\n",
       "    </tr>\n",
       "    <tr>\n",
       "      <th>3</th>\n",
       "      <td>11-05-2015</td>\n",
       "      <td>2673</td>\n",
       "      <td>6756</td>\n",
       "      <td>5.02</td>\n",
       "      <td>8</td>\n",
       "      <td>749.000</td>\n",
       "      <td>190</td>\n",
       "      <td>23</td>\n",
       "      <td>4</td>\n",
       "      <td>9620</td>\n",
       "      <td>311</td>\n",
       "      <td>31</td>\n",
       "      <td>21</td>\n",
       "      <td>350</td>\n",
       "    </tr>\n",
       "    <tr>\n",
       "      <th>4</th>\n",
       "      <td>12-05-2015</td>\n",
       "      <td>2495</td>\n",
       "      <td>502</td>\n",
       "      <td>3.73</td>\n",
       "      <td>1</td>\n",
       "      <td>876.000</td>\n",
       "      <td>171</td>\n",
       "      <td>0</td>\n",
       "      <td>0</td>\n",
       "      <td>7360</td>\n",
       "      <td>407</td>\n",
       "      <td>65</td>\n",
       "      <td>44</td>\n",
       "      <td>491</td>\n",
       "    </tr>\n",
       "  </tbody>\n",
       "</table>\n",
       "</div>"
      ],
      "text/plain": [
       "         date  calorie_burned  steps  distance  floors  minutes_sedentary  \\\n",
       "0  08-05-2015            1934    905      0.65       0              1.355   \n",
       "1  09-05-2015            3631  18925     14.11       4            611.000   \n",
       "2  10-05-2015            3204  14228     10.57       1            602.000   \n",
       "3  11-05-2015            2673   6756      5.02       8            749.000   \n",
       "4  12-05-2015            2495    502      3.73       1            876.000   \n",
       "\n",
       "   minutes_lightly_active  minutes_fairly_active  minutes_very_active  \\\n",
       "0                      46                      0                    0   \n",
       "1                     316                     61                   60   \n",
       "2                     226                     14                   77   \n",
       "3                     190                     23                    4   \n",
       "4                     171                      0                    0   \n",
       "\n",
       "   activity_calories  minutesofsleep  minutesofbeingawake  numberofawakings  \\\n",
       "0               1680             384                   26                23   \n",
       "1               2248             454                   35                21   \n",
       "2               1719             387                   46                25   \n",
       "3               9620             311                   31                21   \n",
       "4               7360             407                   65                44   \n",
       "\n",
       "   lengthofrestinminutes  \n",
       "0                    417  \n",
       "1                    491  \n",
       "2                    436  \n",
       "3                    350  \n",
       "4                    491  "
      ]
     },
     "execution_count": 34,
     "metadata": {},
     "output_type": "execute_result"
    }
   ],
   "source": [
    "fitbit.columns = [e.lower().replace(' ', '_') for e in fitbit.columns]\n",
    "\n",
    "fitbit.head()"
   ]
  },
  {
   "cell_type": "markdown",
   "metadata": {},
   "source": [
    "#### Explore you dataset in terms of data types and descriptive statistics\n",
    "#### *Hint: Use Pandas functions from previous lectures*"
   ]
  },
  {
   "cell_type": "code",
   "execution_count": 35,
   "metadata": {},
   "outputs": [
    {
     "data": {
      "text/plain": [
       "date                       object\n",
       "calorie_burned              int64\n",
       "steps                       int64\n",
       "distance                  float64\n",
       "floors                      int64\n",
       "minutes_sedentary         float64\n",
       "minutes_lightly_active      int64\n",
       "minutes_fairly_active       int64\n",
       "minutes_very_active         int64\n",
       "activity_calories           int64\n",
       "minutesofsleep              int64\n",
       "minutesofbeingawake         int64\n",
       "numberofawakings            int64\n",
       "lengthofrestinminutes       int64\n",
       "dtype: object"
      ]
     },
     "execution_count": 35,
     "metadata": {},
     "output_type": "execute_result"
    }
   ],
   "source": [
    "fitbit_types = fitbit.dtypes\n",
    "\n",
    "fitbit_types\n"
   ]
  },
  {
   "cell_type": "code",
   "execution_count": 37,
   "metadata": {},
   "outputs": [
    {
     "data": {
      "text/html": [
       "<div>\n",
       "<style scoped>\n",
       "    .dataframe tbody tr th:only-of-type {\n",
       "        vertical-align: middle;\n",
       "    }\n",
       "\n",
       "    .dataframe tbody tr th {\n",
       "        vertical-align: top;\n",
       "    }\n",
       "\n",
       "    .dataframe thead th {\n",
       "        text-align: right;\n",
       "    }\n",
       "</style>\n",
       "<table border=\"1\" class=\"dataframe\">\n",
       "  <thead>\n",
       "    <tr style=\"text-align: right;\">\n",
       "      <th></th>\n",
       "      <th>count</th>\n",
       "      <th>mean</th>\n",
       "      <th>std</th>\n",
       "      <th>min</th>\n",
       "      <th>25%</th>\n",
       "      <th>50%</th>\n",
       "      <th>75%</th>\n",
       "      <th>max</th>\n",
       "    </tr>\n",
       "  </thead>\n",
       "  <tbody>\n",
       "    <tr>\n",
       "      <th>calorie_burned</th>\n",
       "      <td>367.0</td>\n",
       "      <td>2741.501362</td>\n",
       "      <td>916.307036</td>\n",
       "      <td>179.000</td>\n",
       "      <td>2698.000</td>\n",
       "      <td>2974.00</td>\n",
       "      <td>3233.00</td>\n",
       "      <td>4351.00</td>\n",
       "    </tr>\n",
       "    <tr>\n",
       "      <th>steps</th>\n",
       "      <td>367.0</td>\n",
       "      <td>10121.588556</td>\n",
       "      <td>5594.836225</td>\n",
       "      <td>0.000</td>\n",
       "      <td>6730.500</td>\n",
       "      <td>10413.00</td>\n",
       "      <td>13916.50</td>\n",
       "      <td>26444.00</td>\n",
       "    </tr>\n",
       "    <tr>\n",
       "      <th>distance</th>\n",
       "      <td>367.0</td>\n",
       "      <td>8.549128</td>\n",
       "      <td>3.409881</td>\n",
       "      <td>0.000</td>\n",
       "      <td>6.155</td>\n",
       "      <td>8.29</td>\n",
       "      <td>10.56</td>\n",
       "      <td>20.45</td>\n",
       "    </tr>\n",
       "    <tr>\n",
       "      <th>floors</th>\n",
       "      <td>367.0</td>\n",
       "      <td>11.724796</td>\n",
       "      <td>10.337370</td>\n",
       "      <td>0.000</td>\n",
       "      <td>5.000</td>\n",
       "      <td>11.00</td>\n",
       "      <td>16.00</td>\n",
       "      <td>101.00</td>\n",
       "    </tr>\n",
       "    <tr>\n",
       "      <th>minutes_sedentary</th>\n",
       "      <td>367.0</td>\n",
       "      <td>563.934482</td>\n",
       "      <td>294.793145</td>\n",
       "      <td>1.002</td>\n",
       "      <td>520.000</td>\n",
       "      <td>663.00</td>\n",
       "      <td>756.50</td>\n",
       "      <td>998.00</td>\n",
       "    </tr>\n",
       "    <tr>\n",
       "      <th>minutes_lightly_active</th>\n",
       "      <td>367.0</td>\n",
       "      <td>236.405995</td>\n",
       "      <td>86.531376</td>\n",
       "      <td>0.000</td>\n",
       "      <td>179.000</td>\n",
       "      <td>226.00</td>\n",
       "      <td>290.00</td>\n",
       "      <td>472.00</td>\n",
       "    </tr>\n",
       "    <tr>\n",
       "      <th>minutes_fairly_active</th>\n",
       "      <td>367.0</td>\n",
       "      <td>26.163488</td>\n",
       "      <td>20.319456</td>\n",
       "      <td>0.000</td>\n",
       "      <td>8.000</td>\n",
       "      <td>24.00</td>\n",
       "      <td>41.50</td>\n",
       "      <td>101.00</td>\n",
       "    </tr>\n",
       "    <tr>\n",
       "      <th>minutes_very_active</th>\n",
       "      <td>367.0</td>\n",
       "      <td>35.722071</td>\n",
       "      <td>31.006682</td>\n",
       "      <td>0.000</td>\n",
       "      <td>10.500</td>\n",
       "      <td>29.00</td>\n",
       "      <td>54.00</td>\n",
       "      <td>153.00</td>\n",
       "    </tr>\n",
       "    <tr>\n",
       "      <th>activity_calories</th>\n",
       "      <td>367.0</td>\n",
       "      <td>2044.147139</td>\n",
       "      <td>2041.267168</td>\n",
       "      <td>0.000</td>\n",
       "      <td>1218.500</td>\n",
       "      <td>1553.00</td>\n",
       "      <td>1927.50</td>\n",
       "      <td>9830.00</td>\n",
       "    </tr>\n",
       "    <tr>\n",
       "      <th>minutesofsleep</th>\n",
       "      <td>367.0</td>\n",
       "      <td>290.479564</td>\n",
       "      <td>154.752328</td>\n",
       "      <td>0.000</td>\n",
       "      <td>224.000</td>\n",
       "      <td>337.00</td>\n",
       "      <td>400.50</td>\n",
       "      <td>553.00</td>\n",
       "    </tr>\n",
       "    <tr>\n",
       "      <th>minutesofbeingawake</th>\n",
       "      <td>367.0</td>\n",
       "      <td>28.008174</td>\n",
       "      <td>18.541415</td>\n",
       "      <td>0.000</td>\n",
       "      <td>14.000</td>\n",
       "      <td>29.00</td>\n",
       "      <td>41.50</td>\n",
       "      <td>78.00</td>\n",
       "    </tr>\n",
       "    <tr>\n",
       "      <th>numberofawakings</th>\n",
       "      <td>367.0</td>\n",
       "      <td>16.196185</td>\n",
       "      <td>10.757622</td>\n",
       "      <td>0.000</td>\n",
       "      <td>7.000</td>\n",
       "      <td>16.00</td>\n",
       "      <td>24.00</td>\n",
       "      <td>45.00</td>\n",
       "    </tr>\n",
       "    <tr>\n",
       "      <th>lengthofrestinminutes</th>\n",
       "      <td>367.0</td>\n",
       "      <td>321.343324</td>\n",
       "      <td>170.786726</td>\n",
       "      <td>0.000</td>\n",
       "      <td>248.000</td>\n",
       "      <td>370.00</td>\n",
       "      <td>440.50</td>\n",
       "      <td>607.00</td>\n",
       "    </tr>\n",
       "  </tbody>\n",
       "</table>\n",
       "</div>"
      ],
      "text/plain": [
       "                        count          mean          std      min       25%  \\\n",
       "calorie_burned          367.0   2741.501362   916.307036  179.000  2698.000   \n",
       "steps                   367.0  10121.588556  5594.836225    0.000  6730.500   \n",
       "distance                367.0      8.549128     3.409881    0.000     6.155   \n",
       "floors                  367.0     11.724796    10.337370    0.000     5.000   \n",
       "minutes_sedentary       367.0    563.934482   294.793145    1.002   520.000   \n",
       "minutes_lightly_active  367.0    236.405995    86.531376    0.000   179.000   \n",
       "minutes_fairly_active   367.0     26.163488    20.319456    0.000     8.000   \n",
       "minutes_very_active     367.0     35.722071    31.006682    0.000    10.500   \n",
       "activity_calories       367.0   2044.147139  2041.267168    0.000  1218.500   \n",
       "minutesofsleep          367.0    290.479564   154.752328    0.000   224.000   \n",
       "minutesofbeingawake     367.0     28.008174    18.541415    0.000    14.000   \n",
       "numberofawakings        367.0     16.196185    10.757622    0.000     7.000   \n",
       "lengthofrestinminutes   367.0    321.343324   170.786726    0.000   248.000   \n",
       "\n",
       "                             50%       75%       max  \n",
       "calorie_burned           2974.00   3233.00   4351.00  \n",
       "steps                   10413.00  13916.50  26444.00  \n",
       "distance                    8.29     10.56     20.45  \n",
       "floors                     11.00     16.00    101.00  \n",
       "minutes_sedentary         663.00    756.50    998.00  \n",
       "minutes_lightly_active    226.00    290.00    472.00  \n",
       "minutes_fairly_active      24.00     41.50    101.00  \n",
       "minutes_very_active        29.00     54.00    153.00  \n",
       "activity_calories        1553.00   1927.50   9830.00  \n",
       "minutesofsleep            337.00    400.50    553.00  \n",
       "minutesofbeingawake        29.00     41.50     78.00  \n",
       "numberofawakings           16.00     24.00     45.00  \n",
       "lengthofrestinminutes     370.00    440.50    607.00  "
      ]
     },
     "execution_count": 37,
     "metadata": {},
     "output_type": "execute_result"
    }
   ],
   "source": [
    "fitbit_stats = fitbit.describe().T\n",
    "\n",
    "fitbit_stats"
   ]
  },
  {
   "cell_type": "markdown",
   "metadata": {},
   "source": [
    "#### You suspect that there must be a linear relationship between the Minutes Very Active and the Steps. Compute the correlation between these variables."
   ]
  },
  {
   "cell_type": "code",
   "execution_count": 49,
   "metadata": {},
   "outputs": [
    {
     "data": {
      "text/plain": [
       "0.5714518481062606"
      ]
     },
     "execution_count": 49,
     "metadata": {},
     "output_type": "execute_result"
    }
   ],
   "source": [
    "correlation_minutes_active_steps = fitbit['minutes_very_active'].corr(fitbit['steps'])\n",
    "\n",
    "correlation_minutes_active_steps"
   ]
  },
  {
   "cell_type": "markdown",
   "metadata": {},
   "source": [
    "#### Use matplotlib to visually plot Minutes Very active vs Steps. \n",
    "\n",
    "##### Hint : import matplotlib.pyplot as plt (See previous lessons)#####\n",
    "- Use plt.scatter(x=df['col_name_1'], y=df['col_name_2'])"
   ]
  },
  {
   "cell_type": "code",
   "execution_count": 40,
   "metadata": {},
   "outputs": [],
   "source": [
    "import matplotlib.pyplot as plt"
   ]
  },
  {
   "cell_type": "code",
   "execution_count": 48,
   "metadata": {},
   "outputs": [
    {
     "data": {
      "image/png": "[encoded data removed]",
      "text/plain": [
       "<Figure size 640x480 with 1 Axes>"
      ]
     },
     "metadata": {},
     "output_type": "display_data"
    }
   ],
   "source": [
    "plt.scatter(fitbit['minutes_very_active'], fitbit['steps'])\n",
    "plt.xlabel(\"Minutes Very Active\")\n",
    "plt.ylabel(\"Steps\")\n",
    "plt.title(\"Minutes Very Active vs Steps\")\n",
    "plt.show()"
   ]
  },
  {
   "cell_type": "markdown",
   "metadata": {},
   "source": [
    "#### What can you say about Minute Very Active and Steps? Write a comment below"
   ]
  },
  {
   "cell_type": "markdown",
   "metadata": {},
   "source": [
    "Que existe una relación lineal y postiva entre ambas variables, aunque no muy fuerte.\n",
    "\n",
    "Los puntos en el gráfico están dispersos y sin un patrón claro. Es decir, la cantidad de minutos muy activos no está fuertemente correlacionada con la cantidad de pasos dados."
   ]
  },
  {
   "cell_type": "markdown",
   "metadata": {},
   "source": [
    "#### We also suspect that there must be a linear relationship between the Minutes Sedentary and the Steps. Compute the correlation between these variables."
   ]
  },
  {
   "cell_type": "code",
   "execution_count": 51,
   "metadata": {},
   "outputs": [
    {
     "data": {
      "text/plain": [
       "0.07690608062990097"
      ]
     },
     "execution_count": 51,
     "metadata": {},
     "output_type": "execute_result"
    }
   ],
   "source": [
    "correlation_minutes_sedentary_steps = fitbit['minutes_sedentary'].corr(fitbit['steps'])\n",
    "\n",
    "correlation_minutes_sedentary_steps"
   ]
  },
  {
   "cell_type": "markdown",
   "metadata": {},
   "source": [
    "#### Use matplotlib to visually plot Minutes Sedentary vs Steps. Based on the results of the computed correlation and the plot. What can you say about these 2 variables?"
   ]
  },
  {
   "cell_type": "code",
   "execution_count": 52,
   "metadata": {},
   "outputs": [
    {
     "data": {
      "image/png": "[encoded data removed]",
      "text/plain": [
       "<Figure size 640x480 with 1 Axes>"
      ]
     },
     "metadata": {},
     "output_type": "display_data"
    }
   ],
   "source": [
    "plt.scatter(fitbit['minutes_sedentary'], fitbit['steps'])\n",
    "\n",
    "plt.xlabel(\"Minutes Sedentary\")\n",
    "plt.ylabel(\"Steps\")\n",
    "plt.title(\"Minutes Sedentary vs Steps\")\n",
    "\n",
    "plt.show()"
   ]
  },
  {
   "cell_type": "markdown",
   "metadata": {},
   "source": [
    "Puede concluirse que no existe una fuerte correlación lineal entre \"Minutos Sedentarios\" y \"Pasos\"."
   ]
  },
  {
   "cell_type": "markdown",
   "metadata": {},
   "source": [
    "#### We also suspect that there must be a linear relationship between the MinutesOfSleep and the Steps. Compute the correlation between these variables."
   ]
  },
  {
   "cell_type": "code",
   "execution_count": 54,
   "metadata": {},
   "outputs": [
    {
     "data": {
      "text/plain": [
       "0.13098565950836388"
      ]
     },
     "execution_count": 54,
     "metadata": {},
     "output_type": "execute_result"
    }
   ],
   "source": [
    "correlation_minutes_sleep_steps = fitbit['minutesofsleep'].corr(fitbit['steps'])\n",
    "\n",
    "correlation_minutes_sleep_steps"
   ]
  },
  {
   "cell_type": "markdown",
   "metadata": {},
   "source": [
    "#### Use matplotlib to visually plot MinutesOfSleep vs Steps. Based on the results of the computed correlation and the plot. What can you say about these 2 variables?"
   ]
  },
  {
   "cell_type": "code",
   "execution_count": 55,
   "metadata": {},
   "outputs": [
    {
     "data": {
      "image/png": "[encoded data removed]",
      "text/plain": [
       "<Figure size 640x480 with 1 Axes>"
      ]
     },
     "metadata": {},
     "output_type": "display_data"
    }
   ],
   "source": [
    "plt.scatter(fitbit['minutesofsleep'], fitbit['steps'])\n",
    "\n",
    "plt.xlabel(\"Minutes of Sleep\")\n",
    "plt.ylabel(\"Steps\")\n",
    "plt.title(\"Minutes of Sleep vs Steps\")\n",
    "\n",
    "plt.show()"
   ]
  },
  {
   "cell_type": "markdown",
   "metadata": {},
   "source": [
    "No existe una fuerte correlación lineal entre estas dos variables. Los puntos en el gráfico están dispersos sin un patrón defnido, y el coeficiente de correlación es cercano a 0."
   ]
  },
  {
   "cell_type": "markdown",
   "metadata": {},
   "source": [
    "#### Select a subset of your dataset with the columns below and compute the correlation matrix. Save the results in the variable `cor_fit`\n",
    "column= ['Calorie burned', 'Steps','Floors','Minutes Sedentary','Minutes Very Active', 'MinutesOfSleep']"
   ]
  },
  {
   "cell_type": "code",
   "execution_count": 56,
   "metadata": {},
   "outputs": [],
   "source": [
    "cols = ['calorie_burned', 'steps', 'floors', 'minutes_sedentary', 'minutes_very_active', 'minutesofsleep']\n",
    "\n",
    "subset = fitbit[cols]"
   ]
  },
  {
   "cell_type": "code",
   "execution_count": 58,
   "metadata": {},
   "outputs": [
    {
     "data": {
      "text/html": [
       "<div>\n",
       "<style scoped>\n",
       "    .dataframe tbody tr th:only-of-type {\n",
       "        vertical-align: middle;\n",
       "    }\n",
       "\n",
       "    .dataframe tbody tr th {\n",
       "        vertical-align: top;\n",
       "    }\n",
       "\n",
       "    .dataframe thead th {\n",
       "        text-align: right;\n",
       "    }\n",
       "</style>\n",
       "<table border=\"1\" class=\"dataframe\">\n",
       "  <thead>\n",
       "    <tr style=\"text-align: right;\">\n",
       "      <th></th>\n",
       "      <th>calorie_burned</th>\n",
       "      <th>steps</th>\n",
       "      <th>floors</th>\n",
       "      <th>minutes_sedentary</th>\n",
       "      <th>minutes_very_active</th>\n",
       "      <th>minutesofsleep</th>\n",
       "    </tr>\n",
       "  </thead>\n",
       "  <tbody>\n",
       "    <tr>\n",
       "      <th>calorie_burned</th>\n",
       "      <td>1.000000</td>\n",
       "      <td>0.255305</td>\n",
       "      <td>0.130757</td>\n",
       "      <td>0.125353</td>\n",
       "      <td>0.197881</td>\n",
       "      <td>0.011485</td>\n",
       "    </tr>\n",
       "    <tr>\n",
       "      <th>steps</th>\n",
       "      <td>0.255305</td>\n",
       "      <td>1.000000</td>\n",
       "      <td>0.306511</td>\n",
       "      <td>0.076906</td>\n",
       "      <td>0.571452</td>\n",
       "      <td>0.130986</td>\n",
       "    </tr>\n",
       "    <tr>\n",
       "      <th>floors</th>\n",
       "      <td>0.130757</td>\n",
       "      <td>0.306511</td>\n",
       "      <td>1.000000</td>\n",
       "      <td>0.057812</td>\n",
       "      <td>0.399503</td>\n",
       "      <td>0.069464</td>\n",
       "    </tr>\n",
       "    <tr>\n",
       "      <th>minutes_sedentary</th>\n",
       "      <td>0.125353</td>\n",
       "      <td>0.076906</td>\n",
       "      <td>0.057812</td>\n",
       "      <td>1.000000</td>\n",
       "      <td>0.105963</td>\n",
       "      <td>0.204242</td>\n",
       "    </tr>\n",
       "    <tr>\n",
       "      <th>minutes_very_active</th>\n",
       "      <td>0.197881</td>\n",
       "      <td>0.571452</td>\n",
       "      <td>0.399503</td>\n",
       "      <td>0.105963</td>\n",
       "      <td>1.000000</td>\n",
       "      <td>0.108018</td>\n",
       "    </tr>\n",
       "    <tr>\n",
       "      <th>minutesofsleep</th>\n",
       "      <td>0.011485</td>\n",
       "      <td>0.130986</td>\n",
       "      <td>0.069464</td>\n",
       "      <td>0.204242</td>\n",
       "      <td>0.108018</td>\n",
       "      <td>1.000000</td>\n",
       "    </tr>\n",
       "  </tbody>\n",
       "</table>\n",
       "</div>"
      ],
      "text/plain": [
       "                     calorie_burned     steps    floors  minutes_sedentary  \\\n",
       "calorie_burned             1.000000  0.255305  0.130757           0.125353   \n",
       "steps                      0.255305  1.000000  0.306511           0.076906   \n",
       "floors                     0.130757  0.306511  1.000000           0.057812   \n",
       "minutes_sedentary          0.125353  0.076906  0.057812           1.000000   \n",
       "minutes_very_active        0.197881  0.571452  0.399503           0.105963   \n",
       "minutesofsleep             0.011485  0.130986  0.069464           0.204242   \n",
       "\n",
       "                     minutes_very_active  minutesofsleep  \n",
       "calorie_burned                  0.197881        0.011485  \n",
       "steps                           0.571452        0.130986  \n",
       "floors                          0.399503        0.069464  \n",
       "minutes_sedentary               0.105963        0.204242  \n",
       "minutes_very_active             1.000000        0.108018  \n",
       "minutesofsleep                  0.108018        1.000000  "
      ]
     },
     "execution_count": 58,
     "metadata": {},
     "output_type": "execute_result"
    }
   ],
   "source": [
    "cor_fit = subset.corr()\n",
    "cor_fit"
   ]
  },
  {
   "cell_type": "markdown",
   "metadata": {},
   "source": [
    "#### Based on the result of the correlation matrix. What are the highly correlated features with the variable Steps?\n",
    "*Hint: From the results above select the variable Steps and order your results in descending order (use Pandas sort_values function)*"
   ]
  },
  {
   "cell_type": "code",
   "execution_count": 60,
   "metadata": {},
   "outputs": [
    {
     "data": {
      "text/plain": [
       "steps                  1.000000\n",
       "minutes_very_active    0.571452\n",
       "floors                 0.306511\n",
       "calorie_burned         0.255305\n",
       "minutesofsleep         0.130986\n",
       "minutes_sedentary      0.076906\n",
       "Name: steps, dtype: float64"
      ]
     },
     "execution_count": 60,
     "metadata": {},
     "output_type": "execute_result"
    }
   ],
   "source": [
    "correlation_steps = cor_fit['steps'].sort_values(ascending=False)\n",
    "\n",
    "correlation_steps"
   ]
  },
  {
   "cell_type": "markdown",
   "metadata": {},
   "source": [
    "# Challenge 3"
   ]
  },
  {
   "cell_type": "markdown",
   "metadata": {},
   "source": [
    "#### Open the `Time_Grades.csv` file and name your dataset `time_grades`"
   ]
  },
  {
   "cell_type": "code",
   "execution_count": 61,
   "metadata": {},
   "outputs": [],
   "source": [
    "time_grades = pd.read_csv('Time_Grades.csv')"
   ]
  },
  {
   "cell_type": "code",
   "execution_count": 62,
   "metadata": {},
   "outputs": [
    {
     "data": {
      "text/html": [
       "<div>\n",
       "<style scoped>\n",
       "    .dataframe tbody tr th:only-of-type {\n",
       "        vertical-align: middle;\n",
       "    }\n",
       "\n",
       "    .dataframe tbody tr th {\n",
       "        vertical-align: top;\n",
       "    }\n",
       "\n",
       "    .dataframe thead th {\n",
       "        text-align: right;\n",
       "    }\n",
       "</style>\n",
       "<table border=\"1\" class=\"dataframe\">\n",
       "  <thead>\n",
       "    <tr style=\"text-align: right;\">\n",
       "      <th></th>\n",
       "      <th>name</th>\n",
       "      <th>study_time</th>\n",
       "      <th>grade</th>\n",
       "    </tr>\n",
       "  </thead>\n",
       "  <tbody>\n",
       "    <tr>\n",
       "      <th>0</th>\n",
       "      <td>Jose</td>\n",
       "      <td>4</td>\n",
       "      <td>4</td>\n",
       "    </tr>\n",
       "    <tr>\n",
       "      <th>1</th>\n",
       "      <td>Maria</td>\n",
       "      <td>9</td>\n",
       "      <td>7</td>\n",
       "    </tr>\n",
       "    <tr>\n",
       "      <th>2</th>\n",
       "      <td>David</td>\n",
       "      <td>8</td>\n",
       "      <td>9</td>\n",
       "    </tr>\n",
       "    <tr>\n",
       "      <th>3</th>\n",
       "      <td>Sonia</td>\n",
       "      <td>10</td>\n",
       "      <td>7</td>\n",
       "    </tr>\n",
       "    <tr>\n",
       "      <th>4</th>\n",
       "      <td>Samuel</td>\n",
       "      <td>20</td>\n",
       "      <td>9</td>\n",
       "    </tr>\n",
       "  </tbody>\n",
       "</table>\n",
       "</div>"
      ],
      "text/plain": [
       "     name  study_time  grade\n",
       "0    Jose           4      4\n",
       "1   Maria           9      7\n",
       "2   David           8      9\n",
       "3   Sonia          10      7\n",
       "4  Samuel          20      9"
      ]
     },
     "execution_count": 62,
     "metadata": {},
     "output_type": "execute_result"
    }
   ],
   "source": [
    "time_grades.columns = [e.lower().replace(' ', '_') for e in time_grades.columns]\n",
    "\n",
    "time_grades.head()"
   ]
  },
  {
   "cell_type": "markdown",
   "metadata": {},
   "source": [
    "#### Show visually the frequency distribution of the time_grades dataset."
   ]
  },
  {
   "cell_type": "code",
   "execution_count": 66,
   "metadata": {},
   "outputs": [
    {
     "data": {
      "image/png": "[encoded data removed]",
      "text/plain": [
       "<Figure size 640x480 with 1 Axes>"
      ]
     },
     "metadata": {},
     "output_type": "display_data"
    }
   ],
   "source": [
    "plt.hist(time_grades['study_time'], bins=10, edgecolor='k')\n",
    "\n",
    "plt.xlabel(\"Study Time\")\n",
    "plt.ylabel(\"Frequency\")\n",
    "plt.title(\"Frequency Distribution of Study Time\")\n",
    "\n",
    "plt.show()"
   ]
  },
  {
   "cell_type": "markdown",
   "metadata": {},
   "source": [
    "#### Is there a correaltion between study time and Grade? Use both Pearson and Spearman correlation and comment your results."
   ]
  },
  {
   "cell_type": "code",
   "execution_count": 68,
   "metadata": {},
   "outputs": [
    {
     "data": {
      "text/plain": [
       "0.7980456073578858"
      ]
     },
     "execution_count": 68,
     "metadata": {},
     "output_type": "execute_result"
    }
   ],
   "source": [
    "pearson_correlation = time_grades['study_time'].corr(time_grades['grade'], method='pearson')\n",
    "\n",
    "pearson_correlation"
   ]
  },
  {
   "cell_type": "code",
   "execution_count": 69,
   "metadata": {},
   "outputs": [
    {
     "data": {
      "text/plain": [
       "0.819658753036942"
      ]
     },
     "execution_count": 69,
     "metadata": {},
     "output_type": "execute_result"
    }
   ],
   "source": [
    "spearman_correlation = time_grades['study_time'].corr(time_grades['grade'], method='spearman')\n",
    "\n",
    "spearman_correlation"
   ]
  },
  {
   "cell_type": "markdown",
   "metadata": {},
   "source": [
    "Sí, tanto la correlación de Pearson como la correlación de Spearman muestran una relación positiva entre el tiempo de estudio y las calificaciones. "
   ]
  },
  {
   "cell_type": "markdown",
   "metadata": {},
   "source": [
    "#### Use matplotlib to visually plot Study time vs Grade. Based on the results of the computed correlation and the plot. What can you say about these 2 variables?"
   ]
  },
  {
   "cell_type": "code",
   "execution_count": 70,
   "metadata": {},
   "outputs": [
    {
     "data": {
      "image/png": "[encoded data removed]",
      "text/plain": [
       "<Figure size 640x480 with 1 Axes>"
      ]
     },
     "metadata": {},
     "output_type": "display_data"
    }
   ],
   "source": [
    "plt.scatter(time_grades['study_time'], time_grades['grade'])\n",
    "\n",
    "plt.xlabel(\"Tiempo de Estudio\")\n",
    "plt.ylabel(\"Calificación\")\n",
    "plt.title(\"Tiempo de Estudio vs. Calificación\")\n",
    "\n",
    "plt.show()"
   ]
  },
  {
   "cell_type": "markdown",
   "metadata": {},
   "source": [
    "Tanto los coeficientes de correlación como el gráfico de dispersión indican una relación lineal positiva entre \"Tiempo de Estudio\" y \"Calificación\". Esto significa que a medida que aumenta el tiempo de estudio, la calificación tiende a aumentar.\n",
    "Cuanto más tiempo dedican los estudiantes al estudio, tienden a obtener calificaciones más altas. "
   ]
  },
  {
   "cell_type": "markdown",
   "metadata": {},
   "source": [
    "#### Could you explain the difference between Pearson and Spearman correlation? (see References in README.md) "
   ]
  },
  {
   "cell_type": "markdown",
   "metadata": {},
   "source": [
    "El coeficiente de correlación de Pearson es una medida de la relación lineal entre dos variables continuas.\n",
    "Supone que las variables siguen una distribución normal y que la relación entre ellas es lineal. Es sensible a relaciones lineales.\n",
    "Varía de -1 a 1, donde 1 indica una relación lineal positiva perfecta, -1 indica una relación lineal negativa perfecta y 0 indica la ausencia de una relación lineal.\n",
    "La correlación de Pearson se calcula en función de la covarianza de las variables y el producto de sus desviaciones estándar. Se define como la proporción de la covarianza al producto de las desviaciones estándar.\n",
    "\n",
    "El coeficiente de correlación de Spearman no supone que las variables sigan una distribución específica y no se limita a relaciones lineales. \n",
    "Se basa en los rangos de los datos en lugar de en los valores reales de los datos. Calcula la correlación en función de los valores clasificados de las variables.\n",
    "La correlación de Spearman varía de -1 a 1, con la misma interpretación que la correlación de Pearson.\n",
    "\n",
    "Es decir, la correlación de Pearson se utiliza para evaluar relaciones lineales en datos que siguen una distribución normal, mientras que la correlación de Spearman se utiliza para evaluar relaciones no necesariamente lineales en datos que pueden no seguir una distribución normal. La correlación de Spearman se utiliza a menudo cuando los datos son ordinales o cuando no se cumplen las suposiciones para la correlación de Pearson."
   ]
  }
 ],
 "metadata": {
  "anaconda-cloud": {},
  "kernelspec": {
   "display_name": "Python 3 (ipykernel)",
   "language": "python",
   "name": "python3"
  },
  "language_info": {
   "codemirror_mode": {
    "name": "ipython",
    "version": 3
   },
   "file_extension": ".py",
   "mimetype": "text/x-python",
   "name": "python",
   "nbconvert_exporter": "python",
   "pygments_lexer": "ipython3",
   "version": "3.11.4"
  }
 },
 "nbformat": 4,
 "nbformat_minor": 1
}
